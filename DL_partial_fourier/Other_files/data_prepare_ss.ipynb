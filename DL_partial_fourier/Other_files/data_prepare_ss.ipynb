{
 "cells": [
  {
   "cell_type": "code",
   "execution_count": 1,
   "id": "030e9aa1",
   "metadata": {},
   "outputs": [],
   "source": [
    "import numpy as np\n",
    "import pandas as pd\n",
    "import datetime\n",
    "import torch.optim as optim\n",
    "from scipy import io\n",
    "import argparse\n",
    "import os\n",
    "import torch\n",
    "from torch import nn\n",
    "from torch.utils.data import Dataset, DataLoader\n",
    "import h5py  \n",
    "import matplotlib.pyplot as plt\n",
    "import matplotlib\n",
    "# print(matplotlib.__version__)\n",
    "matplotlib.use('Agg')\n",
    "import h5py"
   ]
  },
  {
   "cell_type": "code",
   "execution_count": 2,
   "id": "91265c4f",
   "metadata": {},
   "outputs": [],
   "source": [
    "from PIL import Image\n",
    "import math\n",
    "from sklearn.metrics import confusion_matrix\n",
    "import pylab as pl\n",
    "import numpy as np\n",
    "import itertools\n",
    "import torchvision"
   ]
  },
  {
   "cell_type": "code",
   "execution_count": 3,
   "id": "9fbb532c",
   "metadata": {},
   "outputs": [],
   "source": [
    "current_file_data_save = 'generated_dataset'\n",
    "data_file = 'singlecoil_dataset'\n"
   ]
  },
  {
   "cell_type": "code",
   "execution_count": 4,
   "id": "50840e99",
   "metadata": {},
   "outputs": [],
   "source": [
    "os.makedirs(current_file_data_save+'/test/', exist_ok=True)  \n",
    "os.makedirs(current_file_data_save+'/valid/', exist_ok=True)\n",
    "os.makedirs(current_file_data_save+'/train/', exist_ok=True)\n",
    "matrix_size = int(256)"
   ]
  },
  {
   "cell_type": "code",
   "execution_count": 5,
   "id": "39b14173",
   "metadata": {},
   "outputs": [],
   "source": [
    "# pf_line = int(np.floor(matrix_size*0.45))\n",
    "pf_line = int(np.floor(matrix_size*0.25))\n",
    "pf_line_com = matrix_size-pf_line\n",
    "pf_line_o =int(np.floor(256*0.25)) \n",
    "mid = int(matrix_size/2)\n",
    "\n",
    "SS_flag = 1\n",
    "MS_flag = 0\n",
    "EMS_flag = 0"
   ]
  },
  {
   "cell_type": "code",
   "execution_count": 6,
   "id": "ba362279-1922-4eb3-8620-27fa03e21475",
   "metadata": {},
   "outputs": [
    {
     "data": {
      "text/plain": [
       "64"
      ]
     },
     "execution_count": 6,
     "metadata": {},
     "output_type": "execute_result"
    }
   ],
   "source": [
    "pf_line_o"
   ]
  },
  {
   "cell_type": "code",
   "execution_count": 7,
   "id": "9e3a7590",
   "metadata": {},
   "outputs": [
    {
     "name": "stdout",
     "output_type": "stream",
     "text": [
      "1\n"
     ]
    }
   ],
   "source": [
    "filePath =data_file + '/test/'\n",
    "filename = os.listdir(filePath)\n",
    "length = len(filename)\n",
    "print(length)"
   ]
  },
  {
   "cell_type": "code",
   "execution_count": 8,
   "id": "e50e97af",
   "metadata": {},
   "outputs": [
    {
     "name": "stdout",
     "output_type": "stream",
     "text": [
      "Processed file 0 : singlecoil_dataset/test/e13991s3_P01536.7.npy\n"
     ]
    }
   ],
   "source": [
    "files = os.listdir(filePath)\n",
    "for idx, filename in enumerate(files):\n",
    "    if filename.endswith('.npy'):\n",
    "        data_path = os.path.join(filePath, filename)\n",
    "        \n",
    "        kspace = np.load(data_path)\n",
    "        \n",
    "        \n",
    "        kspace_r = kspace[:,:,:,0]\n",
    "        kspace_i = kspace[:,:,:,1]\n",
    "\n",
    "        data = kspace_r + kspace_i *1j\n",
    "        \n",
    "\n",
    "        sz = data.shape\n",
    "        data2 = np.reshape(data,(-1,1,sz[1],sz[2]))\n",
    "\n",
    "        freq= np.fft.ifftshift(data2 ,axes=(2,3))\n",
    "        freq = np.fft.ifft2(freq,axes=(2,3))\n",
    "        img = np.fft.fftshift(freq,axes=(2,3))\n",
    "\n",
    "        scale_ref = round(np.max(np.absolute(img)),15)\n",
    "        img = img/scale_ref\n",
    " \n",
    "        img_ref = img        \n",
    "\n",
    "        freq= np.fft.ifftshift(img_ref ,axes=(2,3))\n",
    "        freq= np.fft.fft2(freq ,axes=(2,3))\n",
    "        \n",
    "        test_k= np.fft.fftshift(freq,axes=(2,3))   \n",
    "        \n",
    "\n",
    "        test_data = np.copy(test_k)\n",
    "        test_data[:,0,:,pf_line:mid] = 0\n",
    "       \n",
    "        label = np.zeros((170, 1, 256, 256), dtype=np.complex128) \n",
    "\n",
    "        label[:,0,:,:] = test_k[:,0,:,:] - test_data[:,0,:,:]\n",
    "        label =label.reshape(sz[0],-1,sz[1],sz[2])\n",
    "\n",
    "\n",
    "        kspaceR = np.copy(np.real(test_data))\n",
    "        kspaceI = np.copy(np.imag(test_data))\n",
    "\n",
    "        kspace = np.concatenate((kspaceR,kspaceI), axis=1)\n",
    "\n",
    "\n",
    "        labelR = np.copy(np.real(label))\n",
    "        labelI = np.copy(np.imag(label))\n",
    "\n",
    "        label = np.concatenate((labelR,labelI), axis=1)\n",
    "        \n",
    "\n",
    "        for i in range(30,int(sz[0]-30)):\n",
    "            D = torch.from_numpy(kspace[i,:,:,:]).float()\n",
    "            L = torch.from_numpy(label[i,:,:,:]).float()\n",
    "            data = {'k-space':D,'label':L}\n",
    "            torch.save(data,current_file_data_save +'/test/'+str(idx)+'_'+str(i)+'.pth')\n",
    "\n",
    "\n",
    "        \n",
    "        \n",
    "        print(\"Processed file\", idx, \":\", data_path)"
   ]
  },
  {
   "cell_type": "code",
   "execution_count": 9,
   "id": "65f26c2a-cf51-4314-a0fd-c73083a19afb",
   "metadata": {},
   "outputs": [
    {
     "name": "stdout",
     "output_type": "stream",
     "text": [
      "7\n"
     ]
    }
   ],
   "source": [
    "filePath =data_file + '/valid/'\n",
    "filename = os.listdir(filePath)\n",
    "length = len(filename)\n",
    "print(length)"
   ]
  },
  {
   "cell_type": "code",
   "execution_count": 10,
   "id": "13dbe671-ae48-4644-8de2-227b8c3d3c4c",
   "metadata": {},
   "outputs": [
    {
     "name": "stdout",
     "output_type": "stream",
     "text": [
      "Processed file 0 : singlecoil_dataset/valid/e14079s3_P09216.7.npy\n",
      "Processed file 1 : singlecoil_dataset/valid/e14080s3_P18944.7.npy\n",
      "Processed file 2 : singlecoil_dataset/valid/e13993s4_P16896.7.npy\n",
      "Processed file 3 : singlecoil_dataset/valid/e14089s3_P53248.7.npy\n",
      "Processed file 4 : singlecoil_dataset/valid/e13992s4_P08704.7.npy\n",
      "Processed file 5 : singlecoil_dataset/valid/e14081s3_P25600.7.npy\n",
      "Processed file 6 : singlecoil_dataset/valid/e14078s3_P02048.7.npy\n"
     ]
    }
   ],
   "source": [
    "files = os.listdir(filePath)\n",
    "for idx, filename in enumerate(files):\n",
    "    if filename.endswith('.npy'):\n",
    "        data_path = os.path.join(filePath, filename)\n",
    "        \n",
    "        kspace = np.load(data_path)\n",
    "        \n",
    "        \n",
    "        kspace_r = kspace[:,:,:,0]\n",
    "        kspace_i = kspace[:,:,:,1]\n",
    "\n",
    "        data = kspace_r + kspace_i *1j\n",
    "        \n",
    "\n",
    "        sz = data.shape\n",
    "        data2 = np.reshape(data,(-1,1,sz[1],sz[2]))\n",
    "\n",
    "        freq= np.fft.ifftshift(data2 ,axes=(2,3))\n",
    "        freq = np.fft.ifft2(freq,axes=(2,3))\n",
    "        img = np.fft.fftshift(freq,axes=(2,3))\n",
    "\n",
    "        scale_ref = round(np.max(np.absolute(img)),15)\n",
    "        img = img/scale_ref\n",
    " \n",
    "        img_ref = img        \n",
    "\n",
    "        freq= np.fft.ifftshift(img_ref ,axes=(2,3))\n",
    "        freq= np.fft.fft2(freq ,axes=(2,3))\n",
    "        \n",
    "        test_k= np.fft.fftshift(freq,axes=(2,3))   \n",
    "        \n",
    "\n",
    "        test_data = np.copy(test_k)\n",
    "        test_data[:,0,:,pf_line:mid] = 0\n",
    "       \n",
    "        label = np.zeros((sz[0], 1, sz[1], sz[2]), dtype=np.complex128) \n",
    "\n",
    "        label[:,0,:,:] = test_k[:,0,:,:] - test_data[:,0,:,:]\n",
    "        label =label.reshape(sz[0],-1,sz[1],sz[2])\n",
    "\n",
    "\n",
    "        kspaceR = np.copy(np.real(test_data))\n",
    "        kspaceI = np.copy(np.imag(test_data))\n",
    "\n",
    "        kspace = np.concatenate((kspaceR,kspaceI), axis=1)\n",
    "\n",
    "\n",
    "        labelR = np.copy(np.real(label))\n",
    "        labelI = np.copy(np.imag(label))\n",
    "\n",
    "        label = np.concatenate((labelR,labelI), axis=1)\n",
    "        \n",
    "\n",
    "        for i in range(30,int(sz[0]-30)):\n",
    "            D = torch.from_numpy(kspace[i,:,:,:]).float()\n",
    "            L = torch.from_numpy(label[i,:,:,:]).float()\n",
    "            data = {'k-space':D,'label':L}\n",
    "            torch.save(data,current_file_data_save +'/valid/'+str(idx)+'_'+str(i)+'.pth')\n",
    "\n",
    "\n",
    "        \n",
    "        \n",
    "        print(\"Processed file\", idx, \":\", data_path)"
   ]
  },
  {
   "cell_type": "code",
   "execution_count": 11,
   "id": "b4f76c59-6567-48b7-8d85-df5c81210dde",
   "metadata": {},
   "outputs": [
    {
     "name": "stdout",
     "output_type": "stream",
     "text": [
      "17\n"
     ]
    }
   ],
   "source": [
    "filePath =data_file + '/train/'\n",
    "filename = os.listdir(filePath)\n",
    "length = len(filename)\n",
    "print(length)"
   ]
  },
  {
   "cell_type": "code",
   "execution_count": 12,
   "id": "231b5235-d0bd-4b80-a14c-21e653b85fb7",
   "metadata": {},
   "outputs": [
    {
     "name": "stdout",
     "output_type": "stream",
     "text": [
      "Processed file 0 : singlecoil_dataset/train/e14120s11_P66048.7.npy\n",
      "Processed file 1 : singlecoil_dataset/train/e14487s5_P47616.7.npy\n",
      "Processed file 2 : singlecoil_dataset/train/e14423s3_P29696.7.npy\n",
      "Processed file 3 : singlecoil_dataset/train/e14280s3_P44032.7.npy\n",
      "Processed file 4 : singlecoil_dataset/train/e14369s5_P40960.7.npy\n",
      "Processed file 5 : singlecoil_dataset/train/e14292s3_P85504.7.npy\n",
      "Processed file 6 : singlecoil_dataset/train/e14437s5_P49152.7.npy\n",
      "Processed file 7 : singlecoil_dataset/train/e14498s5_P60928.7.npy\n",
      "Processed file 8 : singlecoil_dataset/train/e14477s5_P34816.7.npy\n",
      "Processed file 9 : singlecoil_dataset/train/e14268s3_P26112.7.npy\n",
      "Processed file 10 : singlecoil_dataset/train/e14134s3_P06656.7.npy\n",
      "Processed file 11 : singlecoil_dataset/train/e14141s3_P58880.7.npy\n",
      "Processed file 12 : singlecoil_dataset/train/e14427s3_P76288.7.npy\n",
      "Processed file 13 : singlecoil_dataset/train/e14140s3_P52224.7.npy\n",
      "Processed file 14 : singlecoil_dataset/train/e14110s3_P59904.7.npy\n",
      "Processed file 15 : singlecoil_dataset/train/e14191s3_P58368.7.npy\n",
      "Processed file 16 : singlecoil_dataset/train/e14091s3_P67584.7.npy\n"
     ]
    }
   ],
   "source": [
    "files = os.listdir(filePath)\n",
    "for idx, filename in enumerate(files):\n",
    "    if filename.endswith('.npy'):\n",
    "        data_path = os.path.join(filePath, filename)\n",
    "        \n",
    "        kspace = np.load(data_path)\n",
    "        \n",
    "        \n",
    "        kspace_r = kspace[:,:,:,0]\n",
    "        kspace_i = kspace[:,:,:,1]\n",
    "\n",
    "        data = kspace_r + kspace_i *1j\n",
    "        \n",
    "\n",
    "        sz = data.shape\n",
    "        data2 = np.reshape(data,(-1,1,sz[1],sz[2]))\n",
    "\n",
    "        freq= np.fft.ifftshift(data2 ,axes=(2,3))\n",
    "        freq = np.fft.ifft2(freq,axes=(2,3))\n",
    "        img = np.fft.fftshift(freq,axes=(2,3))\n",
    "\n",
    "        scale_ref = round(np.max(np.absolute(img)),15)\n",
    "        img = img/scale_ref\n",
    " \n",
    "        img_ref = img        \n",
    "\n",
    "        freq= np.fft.ifftshift(img_ref ,axes=(2,3))\n",
    "        freq= np.fft.fft2(freq ,axes=(2,3))\n",
    "        \n",
    "        test_k= np.fft.fftshift(freq,axes=(2,3))   \n",
    "        \n",
    "\n",
    "        test_data = np.copy(test_k)\n",
    "        test_data[:,0,:,pf_line:mid] = 0\n",
    "       \n",
    "        label = np.zeros((170, 1, 256, 256), dtype=np.complex128) \n",
    "\n",
    "        label[:,0,:,:] = test_k[:,0,:,:] - test_data[:,0,:,:]\n",
    "        label =label.reshape(sz[0],-1,sz[1],sz[2])\n",
    "\n",
    "\n",
    "        kspaceR = np.copy(np.real(test_data))\n",
    "        kspaceI = np.copy(np.imag(test_data))\n",
    "\n",
    "        kspace = np.concatenate((kspaceR,kspaceI), axis=1)\n",
    "\n",
    "\n",
    "        labelR = np.copy(np.real(label))\n",
    "        labelI = np.copy(np.imag(label))\n",
    "\n",
    "        label = np.concatenate((labelR,labelI), axis=1)\n",
    "        \n",
    "\n",
    "        for i in range(30,int(sz[0]-30)):\n",
    "            D = torch.from_numpy(kspace[i,:,:,:]).float()\n",
    "            L = torch.from_numpy(label[i,:,:,:]).float()\n",
    "            data = {'k-space':D,'label':L}\n",
    "            torch.save(data,current_file_data_save +'/train/'+str(idx)+'_'+str(i)+'.pth')\n",
    "\n",
    "\n",
    "        \n",
    "        \n",
    "        print(\"Processed file\", idx, \":\", data_path)"
   ]
  },
  {
   "cell_type": "code",
   "execution_count": null,
   "id": "a8e22059-774e-48f3-9748-abd21a349724",
   "metadata": {},
   "outputs": [],
   "source": []
  },
  {
   "cell_type": "code",
   "execution_count": null,
   "id": "3336057e-2e98-4b8b-b4d2-a0a86e57ad07",
   "metadata": {},
   "outputs": [],
   "source": []
  }
 ],
 "metadata": {
  "kernelspec": {
   "display_name": "Python 3 (ipykernel)",
   "language": "python",
   "name": "python3"
  },
  "language_info": {
   "codemirror_mode": {
    "name": "ipython",
    "version": 3
   },
   "file_extension": ".py",
   "mimetype": "text/x-python",
   "name": "python",
   "nbconvert_exporter": "python",
   "pygments_lexer": "ipython3",
   "version": "3.10.12"
  }
 },
 "nbformat": 4,
 "nbformat_minor": 5
}
