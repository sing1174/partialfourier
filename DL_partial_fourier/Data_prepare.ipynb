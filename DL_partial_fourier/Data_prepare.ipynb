{
 "cells": [
  {
   "cell_type": "code",
   "execution_count": 1,
   "id": "a4d2fc1c",
   "metadata": {},
   "outputs": [],
   "source": [
    "import numpy as np\n",
    "import pandas as pd\n",
    "import datetime\n",
    "import torch.optim as optim\n",
    "from scipy import io\n",
    "import argparse\n",
    "import os\n",
    "import torch\n",
    "from torch import nn\n",
    "from torch.utils.data import Dataset, DataLoader\n",
    "import h5py  \n",
    "import matplotlib.pyplot as plt\n",
    "import matplotlib\n",
    "# print(matplotlib.__version__)\n",
    "matplotlib.use('Agg')\n",
    "import h5py"
   ]
  },
  {
   "cell_type": "code",
   "execution_count": 2,
   "id": "05fd6f70",
   "metadata": {},
   "outputs": [],
   "source": [
    "from PIL import Image\n",
    "import math\n",
    "from sklearn.metrics import confusion_matrix\n",
    "import pylab as pl\n",
    "import numpy as np\n",
    "import itertools\n",
    "import torchvision"
   ]
  },
  {
   "cell_type": "code",
   "execution_count": 3,
   "id": "95d1db2f",
   "metadata": {},
   "outputs": [],
   "source": [
    "\n",
    "current_file_data_save = 'C:/Users/Asus/Documents/DL-Partial_fourier/Save/'\n",
    "data_file = 'C:/Users/Asus/Documents/DL-Partial_fourier/calgary_multicoil/'\n",
    "# data_file = 'C:/Users/Asus/Documents/DL-Partial_fourier/singlecoil_test/'"
   ]
  },
  {
   "cell_type": "code",
   "execution_count": 4,
   "id": "e6846d89",
   "metadata": {},
   "outputs": [],
   "source": [
    "os.makedirs(current_file_data_save+'/test/', exist_ok=True)  \n",
    "os.makedirs(current_file_data_save+'/validation/', exist_ok=True)\n",
    "os.makedirs(current_file_data_save+'/train/', exist_ok=True)\n",
    "matrix_size = int(218)"
   ]
  },
  {
   "cell_type": "code",
   "execution_count": 5,
   "id": "cfd39649",
   "metadata": {},
   "outputs": [],
   "source": [
    "pf_line = int(np.floor(matrix_size*0.45))\n",
    "pf_line_com = matrix_size-pf_line\n",
    "pf_line_o =int(np.floor(170*0.45)) \n",
    "SS_flag = 0\n",
    "MS_flag = 0\n",
    "EMS_flag = 1"
   ]
  },
  {
   "cell_type": "code",
   "execution_count": 6,
   "id": "2d93ba4c",
   "metadata": {},
   "outputs": [
    {
     "name": "stdout",
     "output_type": "stream",
     "text": [
      "47\n"
     ]
    }
   ],
   "source": [
    "filePath =data_file \n",
    "filename = os.listdir(filePath)\n",
    "length = len(filename)\n",
    "print(length)"
   ]
  },
  {
   "cell_type": "code",
   "execution_count": 7,
   "id": "ceab1fd1",
   "metadata": {},
   "outputs": [
    {
     "name": "stdout",
     "output_type": "stream",
     "text": [
      "<KeysViewHDF5 ['kspace']>\n",
      "Number of zeros in the array: 0\n",
      "<KeysViewHDF5 ['kspace']>\n",
      "Number of zeros in the array: 0\n",
      "<KeysViewHDF5 ['kspace']>\n",
      "Number of zeros in the array: 0\n",
      "<KeysViewHDF5 ['kspace']>\n",
      "Number of zeros in the array: 0\n",
      "<KeysViewHDF5 ['kspace']>\n",
      "Number of zeros in the array: 0\n",
      "<KeysViewHDF5 ['kspace']>\n",
      "Number of zeros in the array: 0\n",
      "<KeysViewHDF5 ['kspace']>\n",
      "Number of zeros in the array: 0\n",
      "<KeysViewHDF5 ['kspace']>\n",
      "Number of zeros in the array: 0\n",
      "<KeysViewHDF5 ['kspace']>\n",
      "Number of zeros in the array: 0\n",
      "<KeysViewHDF5 ['kspace']>\n",
      "Number of zeros in the array: 0\n",
      "<KeysViewHDF5 ['kspace']>\n",
      "Number of zeros in the array: 0\n",
      "<KeysViewHDF5 ['kspace']>\n",
      "Number of zeros in the array: 0\n",
      "<KeysViewHDF5 ['kspace']>\n",
      "Number of zeros in the array: 0\n",
      "<KeysViewHDF5 ['kspace']>\n",
      "Number of zeros in the array: 0\n",
      "<KeysViewHDF5 ['kspace']>\n",
      "Number of zeros in the array: 0\n"
     ]
    }
   ],
   "source": [
    "for idx in range(0,15):   # change 15 to length to run for all\n",
    "    f = h5py.File(filePath+ filename[idx],'r')\n",
    "    \n",
    "    kspace = f['kspace']\n",
    "    kspace = np.transpose(kspace,(0, 2, 1, 3))\n",
    "    kspace_shape = kspace.shape\n",
    "    \n",
    "    if kspace_shape[1] == 170:    # K-space has 170 and 180 but we work on 170 only\n",
    "        print(f.keys())\n",
    "        data_R = kspace[:,:,:,0:12];\n",
    "        data_I = kspace[:,:,:,12:24];\n",
    "\n",
    "\n",
    "        data = data_I*1j +data_R\n",
    "        sz = data.shape\n",
    "        \n",
    "        \n",
    "        freq= np.fft.ifftshift(data ,axes=0)\n",
    "        freq = np.fft.ifft(freq,axis =0)\n",
    "        data1 = np.sqrt(sz[0])*np.fft.fftshift(freq,axes=0)\n",
    "        data2 = np.reshape(data1,(-1,1,sz[1],sz[2]))\n",
    "\n",
    "        freq= np.fft.ifftshift(data2 ,axes=(2,3))\n",
    "        freq = np.fft.ifft2(freq,axes=(2,3))\n",
    "        img = np.sqrt(sz[1]*sz[2])*np.fft.fftshift(freq,axes=(2,3))\n",
    "\n",
    "        scale_ref = round(np.max(np.absolute(img)),15)\n",
    "        img = img/scale_ref\n",
    "\n",
    "        ##single slice\n",
    "        if SS_flag ==1:\n",
    "            img_ref  = img[1:sz[0]-1,:,:,:]*0\n",
    "            for k in range(1,sz[0]-1):\n",
    "                img_ref[k-1,:,:,:] = img[k,:,:,:]\n",
    "        else:\n",
    "            img_ref = np.concatenate((img[1:sz[0]-1,:,:,:]*0,img[1:sz[0]-1,:,:,:]*0,img[1:sz[0]-1,:,:,:]*0),axis = 1)\n",
    "            for k in range(1,sz[0]-1):\n",
    "                img_ref[k-1,:,:,:] = np.concatenate((img[k,:,:,:],  img[k-1,:,:,:], img[k+1,:,:,:]), axis =0) \n",
    "                \n",
    "                \n",
    "#         num_zeros = np.count_nonzero(img_ref == 0)\n",
    "#         print(\"Number of zeros in the array:\", num_zeros)\n",
    "\n",
    "        ##multi slice\n",
    "        freq= np.fft.ifftshift(img_ref ,axes=(2,3))\n",
    "        freq= np.fft.fft2(freq ,axes=(2,3))\n",
    "        \n",
    "        test_k= 1/np.sqrt(sz[1]*sz[2])*np.fft.fftshift(freq,axes=(2,3))   \n",
    "        test_data = np.copy(test_k)\n",
    "        test_data[:,0,:,:pf_line] = 0\n",
    "\n",
    "        test_data[:,0,:pf_line_o,:] = 0    \n",
    "    ##############complementry sampling pattern\n",
    "        if EMS_flag ==1:\n",
    "            test_data[:,1:3,:,pf_line_com:] = 0\n",
    "\n",
    "        if MS_flag==1:\n",
    "            test_data[:,1:3,:,:pf_line] = 0 \n",
    "    ########################### \n",
    "\n",
    "        freq = np.fft.ifftshift(test_data,axes=(2,3))\n",
    "        freq = np.fft.ifft2(freq ,axes=(2,3))\n",
    "        img_data = np.sqrt(sz[1]*sz[2])*np.fft.fftshift(freq,axes=(2,3))   \n",
    "\n",
    "        img_label =img_ref[:,0,:,:] -img_data[:,0,:,:]\n",
    "        img_label =img_label.reshape(sz[0]-2,-1,sz[1],sz[2])\n",
    "\n",
    "        imgdataR = np.copy(np.real(img_data))\n",
    "        imgdataI = np.copy(np.imag(img_data))\n",
    "\n",
    "        imgdata = np.concatenate((imgdataR,imgdataI), axis=1)\n",
    "\n",
    "\n",
    "\n",
    "        imglabelR = np.copy(np.real(img_label))\n",
    "        imglabelI = np.copy(np.imag(img_label))\n",
    "        imglabel = np.concatenate((imglabelR,imglabelI), axis=1)\n",
    "\n",
    "\n",
    "        imgfull=img_label[:,0,:,:] + img_data[:,0,:,:]\n",
    "        imgfull =imgfull.reshape(sz[0]-2,-1,sz[1],sz[2])\n",
    "\n",
    "        for i in range(16,int(sz[0]-20)):\n",
    "            D = torch.from_numpy(imgdata[i,:,:,:]).float()\n",
    "            L = torch.from_numpy(imglabel[i,:,:,:]).float()\n",
    "            data = {'k-space':D,'label':L}\n",
    "            torch.save(data,current_file_data_save +'/train/'+str(idx)+'_'+str(i)+'.pth')\n",
    "        f.close()"
   ]
  },
  {
   "cell_type": "code",
   "execution_count": null,
   "id": "ef45168a",
   "metadata": {},
   "outputs": [],
   "source": []
  }
 ],
 "metadata": {
  "kernelspec": {
   "display_name": "Python 3 (ipykernel)",
   "language": "python",
   "name": "python3"
  },
  "language_info": {
   "codemirror_mode": {
    "name": "ipython",
    "version": 3
   },
   "file_extension": ".py",
   "mimetype": "text/x-python",
   "name": "python",
   "nbconvert_exporter": "python",
   "pygments_lexer": "ipython3",
   "version": "3.11.5"
  }
 },
 "nbformat": 4,
 "nbformat_minor": 5
}
